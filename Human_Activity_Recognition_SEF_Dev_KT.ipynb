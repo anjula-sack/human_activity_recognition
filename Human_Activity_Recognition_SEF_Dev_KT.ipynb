{
  "nbformat": 4,
  "nbformat_minor": 0,
  "metadata": {
    "colab": {
      "name": "Human_Activity_Recognition_SEF_Dev_KT.ipynb",
      "provenance": []
    },
    "kernelspec": {
      "name": "python3",
      "display_name": "Python 3"
    }
  },
  "cells": [
    {
      "cell_type": "markdown",
      "metadata": {
        "id": "VFaf3kIkfqHC"
      },
      "source": [
        "Download the dataset"
      ]
    },
    {
      "cell_type": "code",
      "metadata": {
        "colab": {
          "base_uri": "https://localhost:8080/"
        },
        "id": "TcEr7b7Ofhze",
        "outputId": "d8f50bc4-2769-4056-c09e-b3af3435bcef"
      },
      "source": [
        "!wget \"https://archive.ics.uci.edu/ml/machine-learning-databases/00507/wisdm-dataset.zip\""
      ],
      "execution_count": 1,
      "outputs": [
        {
          "output_type": "stream",
          "text": [
            "--2021-01-10 06:54:23--  https://archive.ics.uci.edu/ml/machine-learning-databases/00507/wisdm-dataset.zip\n",
            "Resolving archive.ics.uci.edu (archive.ics.uci.edu)... 128.195.10.252\n",
            "Connecting to archive.ics.uci.edu (archive.ics.uci.edu)|128.195.10.252|:443... connected.\n",
            "HTTP request sent, awaiting response... 200 OK\n",
            "Length: 309713877 (295M) [application/x-httpd-php]\n",
            "Saving to: ‘wisdm-dataset.zip’\n",
            "\n",
            "wisdm-dataset.zip   100%[===================>] 295.37M  44.2MB/s    in 7.1s    \n",
            "\n",
            "2021-01-10 06:54:30 (41.8 MB/s) - ‘wisdm-dataset.zip’ saved [309713877/309713877]\n",
            "\n"
          ],
          "name": "stdout"
        }
      ]
    },
    {
      "cell_type": "markdown",
      "metadata": {
        "id": "GjQSmh-Fg9Iv"
      },
      "source": [
        "Extract the downloaded dataset"
      ]
    },
    {
      "cell_type": "code",
      "metadata": {
        "id": "JsR7vlDahCLa",
        "colab": {
          "base_uri": "https://localhost:8080/"
        },
        "outputId": "180fad6f-1c8e-44ef-fef1-7973bcc421c5"
      },
      "source": [
        "!unzip wisdm-dataset.zip"
      ],
      "execution_count": 2,
      "outputs": [
        {
          "output_type": "stream",
          "text": [
            "Archive:  wisdm-dataset.zip\n",
            "   creating: wisdm-dataset/\n",
            "  inflating: wisdm-dataset/WISDM-dataset-description.pdf  \n",
            "   creating: wisdm-dataset/arffmagic-master/\n",
            "  inflating: wisdm-dataset/arffmagic-master/Makefile  \n",
            "  inflating: wisdm-dataset/arffmagic-master/.DS_Store  \n",
            " extracting: wisdm-dataset/arffmagic-master/README.md  \n",
            "   creating: wisdm-dataset/arffmagic-master/src/\n",
            "  inflating: wisdm-dataset/arffmagic-master/src/arff.cpp  \n",
            "  inflating: wisdm-dataset/arffmagic-master/src/comparator.h  \n",
            "  inflating: wisdm-dataset/arffmagic-master/src/chunk.h  \n",
            "  inflating: wisdm-dataset/arffmagic-master/src/main.cpp  \n",
            "  inflating: wisdm-dataset/arffmagic-master/src/attribute.h  \n",
            "  inflating: wisdm-dataset/arffmagic-master/src/libmfcc.c  \n",
            "  inflating: wisdm-dataset/arffmagic-master/src/raw.h  \n",
            "  inflating: wisdm-dataset/arffmagic-master/src/try.h  \n",
            "  inflating: wisdm-dataset/arffmagic-master/src/write.h  \n",
            "  inflating: wisdm-dataset/arffmagic-master/src/chunk.cpp  \n",
            "  inflating: wisdm-dataset/arffmagic-master/src/raw.cpp  \n",
            "  inflating: wisdm-dataset/arffmagic-master/src/globals.h  \n",
            "  inflating: wisdm-dataset/arffmagic-master/src/write.cpp  \n",
            "  inflating: wisdm-dataset/arffmagic-master/src/arff.h  \n",
            "  inflating: wisdm-dataset/arffmagic-master/src/except.h  \n",
            "  inflating: wisdm-dataset/arffmagic-master/src/read.cpp  \n",
            "  inflating: wisdm-dataset/arffmagic-master/src/attribute.cpp  \n",
            "  inflating: wisdm-dataset/arffmagic-master/src/libmfcc.h  \n",
            "  inflating: wisdm-dataset/arffmagic-master/src/globals.cpp  \n",
            "  inflating: wisdm-dataset/arffmagic-master/src/funcmap.cpp  \n",
            "  inflating: wisdm-dataset/arffmagic-master/src/read.h  \n",
            "  inflating: wisdm-dataset/arffmagic-master/src/funcmap.h  \n",
            "   creating: wisdm-dataset/arffmagic-master/bin/\n",
            "  inflating: wisdm-dataset/arffmagic-master/bin/magic  \n",
            "   creating: wisdm-dataset/arffmagic-master/bin/arffmagic.dSYM/\n",
            "   creating: wisdm-dataset/arffmagic-master/bin/arffmagic.dSYM/Contents/\n",
            "  inflating: wisdm-dataset/arffmagic-master/bin/arffmagic.dSYM/Contents/Info.plist  \n",
            "   creating: wisdm-dataset/arffmagic-master/bin/arffmagic.dSYM/Contents/Resources/\n",
            "   creating: wisdm-dataset/arffmagic-master/bin/arffmagic.dSYM/Contents/Resources/DWARF/\n",
            "  inflating: wisdm-dataset/arffmagic-master/bin/arffmagic.dSYM/Contents/Resources/DWARF/arffmagic  \n",
            "  inflating: wisdm-dataset/arffmagic-master/bin/.DS_Store  \n",
            "  inflating: wisdm-dataset/arffmagic-master/bin/arffmagic  \n",
            "   creating: wisdm-dataset/arffmagic-master/build/\n",
            "  inflating: wisdm-dataset/arffmagic-master/build/libmfcc.o  \n",
            "  inflating: wisdm-dataset/arffmagic-master/build/write.o  \n",
            "  inflating: wisdm-dataset/arffmagic-master/build/attribute.o  \n",
            "  inflating: wisdm-dataset/arffmagic-master/build/arff.o  \n",
            "  inflating: wisdm-dataset/arffmagic-master/build/read.o  \n",
            "  inflating: wisdm-dataset/arffmagic-master/build/raw.o  \n",
            "  inflating: wisdm-dataset/arffmagic-master/build/funcmap.o  \n",
            "  inflating: wisdm-dataset/arffmagic-master/build/main.o  \n",
            "  inflating: wisdm-dataset/arffmagic-master/build/globals.o  \n",
            "  inflating: wisdm-dataset/arffmagic-master/build/chunk.o  \n",
            "  inflating: wisdm-dataset/README.txt  \n",
            "   creating: wisdm-dataset/raw/\n",
            "   creating: wisdm-dataset/raw/phone/\n",
            "   creating: wisdm-dataset/raw/phone/gyro/\n",
            "  inflating: wisdm-dataset/raw/phone/gyro/data_1631_gyro_phone.txt  \n",
            "  inflating: wisdm-dataset/raw/phone/gyro/data_1644_gyro_phone.txt  \n",
            "  inflating: wisdm-dataset/raw/phone/gyro/data_1639_gyro_phone.txt  \n",
            "  inflating: wisdm-dataset/raw/phone/gyro/data_1621_gyro_phone.txt  \n",
            "  inflating: wisdm-dataset/raw/phone/gyro/data_1609_gyro_phone.txt  \n",
            "  inflating: wisdm-dataset/raw/phone/gyro/data_1627_gyro_phone.txt  \n",
            "  inflating: wisdm-dataset/raw/phone/gyro/data_1628_gyro_phone.txt  \n",
            "  inflating: wisdm-dataset/raw/phone/gyro/data_1620_gyro_phone.txt  \n",
            "  inflating: wisdm-dataset/raw/phone/gyro/data_1633_gyro_phone.txt  \n",
            "  inflating: wisdm-dataset/raw/phone/gyro/data_1638_gyro_phone.txt  \n",
            "  inflating: wisdm-dataset/raw/phone/gyro/data_1614_gyro_phone.txt  \n",
            "  inflating: wisdm-dataset/raw/phone/gyro/data_1625_gyro_phone.txt  \n",
            "  inflating: wisdm-dataset/raw/phone/gyro/data_1612_gyro_phone.txt  \n",
            "  inflating: wisdm-dataset/raw/phone/gyro/data_1640_gyro_phone.txt  \n",
            "  inflating: wisdm-dataset/raw/phone/gyro/data_1616_gyro_phone.txt  \n",
            "  inflating: wisdm-dataset/raw/phone/gyro/data_1647_gyro_phone.txt  \n",
            "  inflating: wisdm-dataset/raw/phone/gyro/data_1646_gyro_phone.txt  \n",
            "  inflating: wisdm-dataset/raw/phone/gyro/data_1637_gyro_phone.txt  \n",
            "  inflating: wisdm-dataset/raw/phone/gyro/data_1608_gyro_phone.txt  \n",
            "  inflating: wisdm-dataset/raw/phone/gyro/data_1642_gyro_phone.txt  \n",
            "  inflating: wisdm-dataset/raw/phone/gyro/data_1624_gyro_phone.txt  \n",
            "  inflating: wisdm-dataset/raw/phone/gyro/.DS_Store  \n",
            "  inflating: wisdm-dataset/raw/phone/gyro/data_1643_gyro_phone.txt  \n",
            "  inflating: wisdm-dataset/raw/phone/gyro/data_1645_gyro_phone.txt  \n",
            "  inflating: wisdm-dataset/raw/phone/gyro/data_1641_gyro_phone.txt  \n",
            "  inflating: wisdm-dataset/raw/phone/gyro/data_1626_gyro_phone.txt  \n",
            "  inflating: wisdm-dataset/raw/phone/gyro/data_1623_gyro_phone.txt  \n",
            "  inflating: wisdm-dataset/raw/phone/gyro/data_1607_gyro_phone.txt  \n",
            "  inflating: wisdm-dataset/raw/phone/gyro/data_1629_gyro_phone.txt  \n",
            "  inflating: wisdm-dataset/raw/phone/gyro/data_1610_gyro_phone.txt  \n",
            "  inflating: wisdm-dataset/raw/phone/gyro/data_1649_gyro_phone.txt  \n",
            "  inflating: wisdm-dataset/raw/phone/gyro/data_1648_gyro_phone.txt  \n",
            "  inflating: wisdm-dataset/raw/phone/gyro/data_1636_gyro_phone.txt  \n",
            "  inflating: wisdm-dataset/raw/phone/gyro/data_1630_gyro_phone.txt  \n",
            "  inflating: wisdm-dataset/raw/phone/gyro/data_1600_gyro_phone.txt  \n",
            "  inflating: wisdm-dataset/raw/phone/gyro/data_1603_gyro_phone.txt  \n",
            "  inflating: wisdm-dataset/raw/phone/gyro/data_1606_gyro_phone.txt  \n",
            "  inflating: wisdm-dataset/raw/phone/gyro/data_1604_gyro_phone.txt  \n",
            "  inflating: wisdm-dataset/raw/phone/gyro/data_1611_gyro_phone.txt  \n",
            "  inflating: wisdm-dataset/raw/phone/gyro/data_1632_gyro_phone.txt  \n",
            "  inflating: wisdm-dataset/raw/phone/gyro/data_1618_gyro_phone.txt  \n",
            "  inflating: wisdm-dataset/raw/phone/gyro/data_1635_gyro_phone.txt  \n",
            "  inflating: wisdm-dataset/raw/phone/gyro/data_1605_gyro_phone.txt  \n",
            "  inflating: wisdm-dataset/raw/phone/gyro/data_1602_gyro_phone.txt  \n",
            "  inflating: wisdm-dataset/raw/phone/gyro/data_1613_gyro_phone.txt  \n",
            "  inflating: wisdm-dataset/raw/phone/gyro/data_1617_gyro_phone.txt  \n",
            "  inflating: wisdm-dataset/raw/phone/gyro/data_1619_gyro_phone.txt  \n",
            "  inflating: wisdm-dataset/raw/phone/gyro/data_1615_gyro_phone.txt  \n",
            "  inflating: wisdm-dataset/raw/phone/gyro/data_1650_gyro_phone.txt  \n",
            "  inflating: wisdm-dataset/raw/phone/gyro/data_1634_gyro_phone.txt  \n",
            "  inflating: wisdm-dataset/raw/phone/gyro/data_1622_gyro_phone.txt  \n",
            "  inflating: wisdm-dataset/raw/phone/gyro/data_1601_gyro_phone.txt  \n",
            "  inflating: wisdm-dataset/raw/phone/.DS_Store  \n",
            "   creating: wisdm-dataset/raw/phone/accel/\n",
            "  inflating: wisdm-dataset/raw/phone/accel/data_1635_accel_phone.txt  \n",
            "  inflating: wisdm-dataset/raw/phone/accel/data_1608_accel_phone.txt  \n",
            "  inflating: wisdm-dataset/raw/phone/accel/data_1649_accel_phone.txt  \n",
            "  inflating: wisdm-dataset/raw/phone/accel/data_1647_accel_phone.txt  \n",
            "  inflating: wisdm-dataset/raw/phone/accel/data_1619_accel_phone.txt  \n",
            "  inflating: wisdm-dataset/raw/phone/accel/data_1621_accel_phone.txt  \n",
            "  inflating: wisdm-dataset/raw/phone/accel/data_1630_accel_phone.txt  \n",
            "  inflating: wisdm-dataset/raw/phone/accel/data_1639_accel_phone.txt  \n",
            "  inflating: wisdm-dataset/raw/phone/accel/data_1615_accel_phone.txt  \n",
            "  inflating: wisdm-dataset/raw/phone/accel/data_1611_accel_phone.txt  \n",
            "  inflating: wisdm-dataset/raw/phone/accel/data_1616_accel_phone.txt  \n",
            "  inflating: wisdm-dataset/raw/phone/accel/data_1644_accel_phone.txt  \n",
            "  inflating: wisdm-dataset/raw/phone/accel/data_1648_accel_phone.txt  \n",
            "  inflating: wisdm-dataset/raw/phone/accel/data_1645_accel_phone.txt  \n",
            "  inflating: wisdm-dataset/raw/phone/accel/data_1641_accel_phone.txt  \n",
            "  inflating: wisdm-dataset/raw/phone/accel/data_1603_accel_phone.txt  \n",
            "  inflating: wisdm-dataset/raw/phone/accel/data_1628_accel_phone.txt  \n",
            "  inflating: wisdm-dataset/raw/phone/accel/data_1610_accel_phone.txt  \n",
            "  inflating: wisdm-dataset/raw/phone/accel/data_1634_accel_phone.txt  \n",
            "  inflating: wisdm-dataset/raw/phone/accel/data_1600_accel_phone.txt  \n",
            "  inflating: wisdm-dataset/raw/phone/accel/.DS_Store  \n",
            "  inflating: wisdm-dataset/raw/phone/accel/data_1613_accel_phone.txt  \n",
            "  inflating: wisdm-dataset/raw/phone/accel/data_1624_accel_phone.txt  \n",
            "  inflating: wisdm-dataset/raw/phone/accel/data_1620_accel_phone.txt  \n",
            "  inflating: wisdm-dataset/raw/phone/accel/data_1606_accel_phone.txt  \n",
            "  inflating: wisdm-dataset/raw/phone/accel/data_1633_accel_phone.txt  \n",
            "  inflating: wisdm-dataset/raw/phone/accel/data_1632_accel_phone.txt  \n",
            "  inflating: wisdm-dataset/raw/phone/accel/data_1626_accel_phone.txt  \n",
            "  inflating: wisdm-dataset/raw/phone/accel/data_1643_accel_phone.txt  \n",
            "  inflating: wisdm-dataset/raw/phone/accel/data_1637_accel_phone.txt  \n",
            "  inflating: wisdm-dataset/raw/phone/accel/data_1640_accel_phone.txt  \n",
            "  inflating: wisdm-dataset/raw/phone/accel/data_1627_accel_phone.txt  \n",
            "  inflating: wisdm-dataset/raw/phone/accel/data_1650_accel_phone.txt  \n",
            "  inflating: wisdm-dataset/raw/phone/accel/data_1614_accel_phone.txt  \n",
            "  inflating: wisdm-dataset/raw/phone/accel/data_1617_accel_phone.txt  \n",
            "  inflating: wisdm-dataset/raw/phone/accel/data_1618_accel_phone.txt  \n",
            "  inflating: wisdm-dataset/raw/phone/accel/data_1642_accel_phone.txt  \n",
            "  inflating: wisdm-dataset/raw/phone/accel/data_1612_accel_phone.txt  \n",
            "  inflating: wisdm-dataset/raw/phone/accel/data_1646_accel_phone.txt  \n",
            "  inflating: wisdm-dataset/raw/phone/accel/data_1601_accel_phone.txt  \n",
            "  inflating: wisdm-dataset/raw/phone/accel/data_1605_accel_phone.txt  \n",
            "  inflating: wisdm-dataset/raw/phone/accel/data_1623_accel_phone.txt  \n",
            "  inflating: wisdm-dataset/raw/phone/accel/data_1607_accel_phone.txt  \n",
            "  inflating: wisdm-dataset/raw/phone/accel/data_1638_accel_phone.txt  \n",
            "  inflating: wisdm-dataset/raw/phone/accel/data_1636_accel_phone.txt  \n",
            "  inflating: wisdm-dataset/raw/phone/accel/data_1629_accel_phone.txt  \n",
            "  inflating: wisdm-dataset/raw/phone/accel/data_1604_accel_phone.txt  \n",
            "  inflating: wisdm-dataset/raw/phone/accel/data_1622_accel_phone.txt  \n",
            "  inflating: wisdm-dataset/raw/phone/accel/data_1625_accel_phone.txt  \n",
            "  inflating: wisdm-dataset/raw/phone/accel/data_1602_accel_phone.txt  \n",
            "  inflating: wisdm-dataset/raw/phone/accel/data_1609_accel_phone.txt  \n",
            "  inflating: wisdm-dataset/raw/phone/accel/data_1631_accel_phone.txt  \n",
            "   creating: wisdm-dataset/raw/watch/\n",
            "   creating: wisdm-dataset/raw/watch/gyro/\n",
            "  inflating: wisdm-dataset/raw/watch/gyro/data_1629_gyro_watch.txt  \n",
            "  inflating: wisdm-dataset/raw/watch/gyro/data_1633_gyro_watch.txt  \n",
            "  inflating: wisdm-dataset/raw/watch/gyro/data_1626_gyro_watch.txt  \n",
            "  inflating: wisdm-dataset/raw/watch/gyro/data_1644_gyro_watch.txt  \n",
            "  inflating: wisdm-dataset/raw/watch/gyro/data_1625_gyro_watch.txt  \n",
            "  inflating: wisdm-dataset/raw/watch/gyro/data_1649_gyro_watch.txt  \n",
            "  inflating: wisdm-dataset/raw/watch/gyro/data_1631_gyro_watch.txt  \n",
            "  inflating: wisdm-dataset/raw/watch/gyro/data_1632_gyro_watch.txt  \n",
            "  inflating: wisdm-dataset/raw/watch/gyro/data_1622_gyro_watch.txt  \n",
            "  inflating: wisdm-dataset/raw/watch/gyro/data_1628_gyro_watch.txt  \n",
            "  inflating: wisdm-dataset/raw/watch/gyro/data_1602_gyro_watch.txt  \n",
            "  inflating: wisdm-dataset/raw/watch/gyro/data_1603_gyro_watch.txt  \n",
            "  inflating: wisdm-dataset/raw/watch/gyro/data_1610_gyro_watch.txt  \n",
            "  inflating: wisdm-dataset/raw/watch/gyro/data_1609_gyro_watch.txt  \n",
            "  inflating: wisdm-dataset/raw/watch/gyro/data_1647_gyro_watch.txt  \n",
            "  inflating: wisdm-dataset/raw/watch/gyro/data_1638_gyro_watch.txt  \n",
            "  inflating: wisdm-dataset/raw/watch/gyro/data_1642_gyro_watch.txt  \n",
            "  inflating: wisdm-dataset/raw/watch/gyro/data_1627_gyro_watch.txt  \n",
            "  inflating: wisdm-dataset/raw/watch/gyro/data_1601_gyro_watch.txt  \n",
            "  inflating: wisdm-dataset/raw/watch/gyro/data_1646_gyro_watch.txt  \n",
            "  inflating: wisdm-dataset/raw/watch/gyro/data_1643_gyro_watch.txt  \n",
            "  inflating: wisdm-dataset/raw/watch/gyro/data_1636_gyro_watch.txt  \n",
            "  inflating: wisdm-dataset/raw/watch/gyro/data_1635_gyro_watch.txt  \n",
            "  inflating: wisdm-dataset/raw/watch/gyro/data_1617_gyro_watch.txt  \n",
            "  inflating: wisdm-dataset/raw/watch/gyro/.DS_Store  \n",
            "  inflating: wisdm-dataset/raw/watch/gyro/data_1612_gyro_watch.txt  \n",
            "  inflating: wisdm-dataset/raw/watch/gyro/data_1620_gyro_watch.txt  \n",
            "  inflating: wisdm-dataset/raw/watch/gyro/data_1623_gyro_watch.txt  \n",
            "  inflating: wisdm-dataset/raw/watch/gyro/data_1615_gyro_watch.txt  \n",
            "  inflating: wisdm-dataset/raw/watch/gyro/data_1621_gyro_watch.txt  \n",
            "  inflating: wisdm-dataset/raw/watch/gyro/data_1645_gyro_watch.txt  \n",
            "  inflating: wisdm-dataset/raw/watch/gyro/data_1641_gyro_watch.txt  \n",
            "  inflating: wisdm-dataset/raw/watch/gyro/data_1616_gyro_watch.txt  \n",
            "  inflating: wisdm-dataset/raw/watch/gyro/data_1608_gyro_watch.txt  \n",
            "  inflating: wisdm-dataset/raw/watch/gyro/data_1605_gyro_watch.txt  \n",
            "  inflating: wisdm-dataset/raw/watch/gyro/data_1607_gyro_watch.txt  \n",
            "  inflating: wisdm-dataset/raw/watch/gyro/data_1648_gyro_watch.txt  \n",
            "  inflating: wisdm-dataset/raw/watch/gyro/data_1600_gyro_watch.txt  \n",
            "  inflating: wisdm-dataset/raw/watch/gyro/data_1637_gyro_watch.txt  \n",
            "  inflating: wisdm-dataset/raw/watch/gyro/data_1604_gyro_watch.txt  \n",
            "  inflating: wisdm-dataset/raw/watch/gyro/data_1639_gyro_watch.txt  \n",
            "  inflating: wisdm-dataset/raw/watch/gyro/data_1611_gyro_watch.txt  \n",
            "  inflating: wisdm-dataset/raw/watch/gyro/data_1613_gyro_watch.txt  \n",
            "  inflating: wisdm-dataset/raw/watch/gyro/data_1614_gyro_watch.txt  \n",
            "  inflating: wisdm-dataset/raw/watch/gyro/data_1640_gyro_watch.txt  \n",
            "  inflating: wisdm-dataset/raw/watch/gyro/data_1606_gyro_watch.txt  \n",
            "  inflating: wisdm-dataset/raw/watch/gyro/data_1630_gyro_watch.txt  \n",
            "  inflating: wisdm-dataset/raw/watch/gyro/data_1618_gyro_watch.txt  \n",
            "  inflating: wisdm-dataset/raw/watch/gyro/data_1634_gyro_watch.txt  \n",
            "  inflating: wisdm-dataset/raw/watch/gyro/data_1650_gyro_watch.txt  \n",
            "  inflating: wisdm-dataset/raw/watch/gyro/data_1619_gyro_watch.txt  \n",
            "  inflating: wisdm-dataset/raw/watch/gyro/data_1624_gyro_watch.txt  \n",
            "  inflating: wisdm-dataset/raw/watch/.DS_Store  \n",
            "   creating: wisdm-dataset/raw/watch/accel/\n",
            "  inflating: wisdm-dataset/raw/watch/accel/data_1626_accel_watch.txt  \n",
            "  inflating: wisdm-dataset/raw/watch/accel/data_1631_accel_watch.txt  \n",
            "  inflating: wisdm-dataset/raw/watch/accel/data_1605_accel_watch.txt  \n",
            "  inflating: wisdm-dataset/raw/watch/accel/data_1608_accel_watch.txt  \n",
            "  inflating: wisdm-dataset/raw/watch/accel/data_1600_accel_watch.txt  \n",
            "  inflating: wisdm-dataset/raw/watch/accel/data_1650_accel_watch.txt  \n",
            "  inflating: wisdm-dataset/raw/watch/accel/data_1623_accel_watch.txt  \n",
            "  inflating: wisdm-dataset/raw/watch/accel/data_1612_accel_watch.txt  \n",
            "  inflating: wisdm-dataset/raw/watch/accel/data_1637_accel_watch.txt  \n",
            "  inflating: wisdm-dataset/raw/watch/accel/data_1620_accel_watch.txt  \n",
            "  inflating: wisdm-dataset/raw/watch/accel/data_1633_accel_watch.txt  \n",
            "  inflating: wisdm-dataset/raw/watch/accel/data_1618_accel_watch.txt  \n",
            "  inflating: wisdm-dataset/raw/watch/accel/data_1635_accel_watch.txt  \n",
            "  inflating: wisdm-dataset/raw/watch/accel/data_1619_accel_watch.txt  \n",
            "  inflating: wisdm-dataset/raw/watch/accel/data_1611_accel_watch.txt  \n",
            "  inflating: wisdm-dataset/raw/watch/accel/data_1614_accel_watch.txt  \n",
            "  inflating: wisdm-dataset/raw/watch/accel/data_1601_accel_watch.txt  \n",
            "  inflating: wisdm-dataset/raw/watch/accel/data_1616_accel_watch.txt  \n",
            "  inflating: wisdm-dataset/raw/watch/accel/.DS_Store  \n",
            "  inflating: wisdm-dataset/raw/watch/accel/data_1645_accel_watch.txt  \n",
            "  inflating: wisdm-dataset/raw/watch/accel/data_1606_accel_watch.txt  \n",
            "  inflating: wisdm-dataset/raw/watch/accel/data_1615_accel_watch.txt  \n",
            "  inflating: wisdm-dataset/raw/watch/accel/data_1638_accel_watch.txt  \n",
            "  inflating: wisdm-dataset/raw/watch/accel/data_1636_accel_watch.txt  \n",
            "  inflating: wisdm-dataset/raw/watch/accel/data_1607_accel_watch.txt  \n",
            "  inflating: wisdm-dataset/raw/watch/accel/data_1627_accel_watch.txt  \n",
            "  inflating: wisdm-dataset/raw/watch/accel/data_1625_accel_watch.txt  \n",
            "  inflating: wisdm-dataset/raw/watch/accel/data_1640_accel_watch.txt  \n",
            "  inflating: wisdm-dataset/raw/watch/accel/data_1643_accel_watch.txt  \n",
            "  inflating: wisdm-dataset/raw/watch/accel/data_1602_accel_watch.txt  \n",
            "  inflating: wisdm-dataset/raw/watch/accel/data_1644_accel_watch.txt  \n",
            "  inflating: wisdm-dataset/raw/watch/accel/data_1629_accel_watch.txt  \n",
            "  inflating: wisdm-dataset/raw/watch/accel/data_1642_accel_watch.txt  \n",
            "  inflating: wisdm-dataset/raw/watch/accel/data_1610_accel_watch.txt  \n",
            "  inflating: wisdm-dataset/raw/watch/accel/data_1624_accel_watch.txt  \n",
            "  inflating: wisdm-dataset/raw/watch/accel/data_1603_accel_watch.txt  \n",
            "  inflating: wisdm-dataset/raw/watch/accel/data_1621_accel_watch.txt  \n",
            "  inflating: wisdm-dataset/raw/watch/accel/data_1646_accel_watch.txt  \n",
            "  inflating: wisdm-dataset/raw/watch/accel/data_1628_accel_watch.txt  \n",
            "  inflating: wisdm-dataset/raw/watch/accel/data_1604_accel_watch.txt  \n",
            "  inflating: wisdm-dataset/raw/watch/accel/data_1634_accel_watch.txt  \n",
            "  inflating: wisdm-dataset/raw/watch/accel/data_1613_accel_watch.txt  \n",
            "  inflating: wisdm-dataset/raw/watch/accel/data_1647_accel_watch.txt  \n",
            "  inflating: wisdm-dataset/raw/watch/accel/data_1609_accel_watch.txt  \n",
            "  inflating: wisdm-dataset/raw/watch/accel/data_1630_accel_watch.txt  \n",
            "  inflating: wisdm-dataset/raw/watch/accel/data_1639_accel_watch.txt  \n",
            "  inflating: wisdm-dataset/raw/watch/accel/data_1617_accel_watch.txt  \n",
            "  inflating: wisdm-dataset/raw/watch/accel/data_1648_accel_watch.txt  \n",
            "  inflating: wisdm-dataset/raw/watch/accel/data_1632_accel_watch.txt  \n",
            "  inflating: wisdm-dataset/raw/watch/accel/data_1649_accel_watch.txt  \n",
            "  inflating: wisdm-dataset/raw/watch/accel/data_1641_accel_watch.txt  \n",
            "  inflating: wisdm-dataset/raw/watch/accel/data_1622_accel_watch.txt  \n",
            "  inflating: wisdm-dataset/raw/.DS_Store  \n",
            "   creating: wisdm-dataset/arff_files/\n",
            "   creating: wisdm-dataset/arff_files/phone/\n",
            "   creating: wisdm-dataset/arff_files/phone/gyro/\n",
            "  inflating: wisdm-dataset/arff_files/phone/gyro/data_1610_gyro_phone.arff  \n",
            "  inflating: wisdm-dataset/arff_files/phone/gyro/data_1612_gyro_phone.arff  \n",
            "  inflating: wisdm-dataset/arff_files/phone/gyro/data_1637_gyro_phone.arff  \n",
            "  inflating: wisdm-dataset/arff_files/phone/gyro/data_1622_gyro_phone.arff  \n",
            "  inflating: wisdm-dataset/arff_files/phone/gyro/data_1604_gyro_phone.arff  \n",
            "  inflating: wisdm-dataset/arff_files/phone/gyro/data_1639_gyro_phone.arff  \n",
            "  inflating: wisdm-dataset/arff_files/phone/gyro/data_1621_gyro_phone.arff  \n",
            "  inflating: wisdm-dataset/arff_files/phone/gyro/data_1623_gyro_phone.arff  \n",
            "  inflating: wisdm-dataset/arff_files/phone/gyro/data_1640_gyro_phone.arff  \n",
            "  inflating: wisdm-dataset/arff_files/phone/gyro/data_1645_gyro_phone.arff  \n",
            "  inflating: wisdm-dataset/arff_files/phone/gyro/data_1602_gyro_phone.arff  \n",
            "  inflating: wisdm-dataset/arff_files/phone/gyro/data_1649_gyro_phone.arff  \n",
            "  inflating: wisdm-dataset/arff_files/phone/gyro/data_1600_gyro_phone.arff  \n",
            "  inflating: wisdm-dataset/arff_files/phone/gyro/data_1644_gyro_phone.arff  \n",
            "  inflating: wisdm-dataset/arff_files/phone/gyro/data_1646_gyro_phone.arff  \n",
            "  inflating: wisdm-dataset/arff_files/phone/gyro/data_1632_gyro_phone.arff  \n",
            "  inflating: wisdm-dataset/arff_files/phone/gyro/data_1608_gyro_phone.arff  \n",
            "  inflating: wisdm-dataset/arff_files/phone/gyro/data_1635_gyro_phone.arff  \n",
            "  inflating: wisdm-dataset/arff_files/phone/gyro/data_1606_gyro_phone.arff  \n",
            "  inflating: wisdm-dataset/arff_files/phone/gyro/data_1629_gyro_phone.arff  \n",
            "  inflating: wisdm-dataset/arff_files/phone/gyro/data_1617_gyro_phone.arff  \n",
            "  inflating: wisdm-dataset/arff_files/phone/gyro/data_1628_gyro_phone.arff  \n",
            "  inflating: wisdm-dataset/arff_files/phone/gyro/data_1636_gyro_phone.arff  \n",
            "  inflating: wisdm-dataset/arff_files/phone/gyro/data_1601_gyro_phone.arff  \n",
            "  inflating: wisdm-dataset/arff_files/phone/gyro/.DS_Store  \n",
            "  inflating: wisdm-dataset/arff_files/phone/gyro/data_1615_gyro_phone.arff  \n",
            "  inflating: wisdm-dataset/arff_files/phone/gyro/data_1611_gyro_phone.arff  \n",
            "  inflating: wisdm-dataset/arff_files/phone/gyro/data_1620_gyro_phone.arff  \n",
            "  inflating: wisdm-dataset/arff_files/phone/gyro/data_1647_gyro_phone.arff  \n",
            "  inflating: wisdm-dataset/arff_files/phone/gyro/data_1631_gyro_phone.arff  \n",
            "  inflating: wisdm-dataset/arff_files/phone/gyro/data_1648_gyro_phone.arff  \n",
            "  inflating: wisdm-dataset/arff_files/phone/gyro/data_1603_gyro_phone.arff  \n",
            "  inflating: wisdm-dataset/arff_files/phone/gyro/data_1627_gyro_phone.arff  \n",
            "  inflating: wisdm-dataset/arff_files/phone/gyro/data_1619_gyro_phone.arff  \n",
            "  inflating: wisdm-dataset/arff_files/phone/gyro/data_1607_gyro_phone.arff  \n",
            "  inflating: wisdm-dataset/arff_files/phone/gyro/data_1643_gyro_phone.arff  \n",
            "  inflating: wisdm-dataset/arff_files/phone/gyro/data_1624_gyro_phone.arff  \n",
            "  inflating: wisdm-dataset/arff_files/phone/gyro/data_1638_gyro_phone.arff  \n",
            "  inflating: wisdm-dataset/arff_files/phone/gyro/data_1618_gyro_phone.arff  \n",
            "  inflating: wisdm-dataset/arff_files/phone/gyro/data_1605_gyro_phone.arff  \n",
            "  inflating: wisdm-dataset/arff_files/phone/gyro/data_1625_gyro_phone.arff  \n",
            "  inflating: wisdm-dataset/arff_files/phone/gyro/data_1626_gyro_phone.arff  \n",
            "  inflating: wisdm-dataset/arff_files/phone/gyro/data_1650_gyro_phone.arff  \n",
            "  inflating: wisdm-dataset/arff_files/phone/gyro/data_1616_gyro_phone.arff  \n",
            "  inflating: wisdm-dataset/arff_files/phone/gyro/data_1609_gyro_phone.arff  \n",
            "  inflating: wisdm-dataset/arff_files/phone/gyro/data_1613_gyro_phone.arff  \n",
            "  inflating: wisdm-dataset/arff_files/phone/gyro/data_1630_gyro_phone.arff  \n",
            "  inflating: wisdm-dataset/arff_files/phone/gyro/data_1634_gyro_phone.arff  \n",
            "  inflating: wisdm-dataset/arff_files/phone/gyro/data_1641_gyro_phone.arff  \n",
            "  inflating: wisdm-dataset/arff_files/phone/gyro/data_1633_gyro_phone.arff  \n",
            "  inflating: wisdm-dataset/arff_files/phone/gyro/data_1642_gyro_phone.arff  \n",
            "  inflating: wisdm-dataset/arff_files/phone/.DS_Store  \n",
            "   creating: wisdm-dataset/arff_files/phone/accel/\n",
            "  inflating: wisdm-dataset/arff_files/phone/accel/data_1633_accel_phone.arff  \n",
            "  inflating: wisdm-dataset/arff_files/phone/accel/data_1612_accel_phone.arff  \n",
            "  inflating: wisdm-dataset/arff_files/phone/accel/data_1620_accel_phone.arff  \n",
            "  inflating: wisdm-dataset/arff_files/phone/accel/data_1628_accel_phone.arff  \n",
            "  inflating: wisdm-dataset/arff_files/phone/accel/data_1602_accel_phone.arff  \n",
            "  inflating: wisdm-dataset/arff_files/phone/accel/data_1636_accel_phone.arff  \n",
            "  inflating: wisdm-dataset/arff_files/phone/accel/data_1604_accel_phone.arff  \n",
            "  inflating: wisdm-dataset/arff_files/phone/accel/data_1638_accel_phone.arff  \n",
            "  inflating: wisdm-dataset/arff_files/phone/accel/data_1647_accel_phone.arff  \n",
            "  inflating: wisdm-dataset/arff_files/phone/accel/data_1607_accel_phone.arff  \n",
            "  inflating: wisdm-dataset/arff_files/phone/accel/data_1648_accel_phone.arff  \n",
            "  inflating: wisdm-dataset/arff_files/phone/accel/data_1643_accel_phone.arff  \n",
            "  inflating: wisdm-dataset/arff_files/phone/accel/data_1627_accel_phone.arff  \n",
            "  inflating: wisdm-dataset/arff_files/phone/accel/data_1626_accel_phone.arff  \n",
            "  inflating: wisdm-dataset/arff_files/phone/accel/data_1611_accel_phone.arff  \n",
            "  inflating: wisdm-dataset/arff_files/phone/accel/data_1600_accel_phone.arff  \n",
            "  inflating: wisdm-dataset/arff_files/phone/accel/data_1635_accel_phone.arff  \n",
            "  inflating: wisdm-dataset/arff_files/phone/accel/data_1613_accel_phone.arff  \n",
            "  inflating: wisdm-dataset/arff_files/phone/accel/data_1617_accel_phone.arff  \n",
            "  inflating: wisdm-dataset/arff_files/phone/accel/data_1641_accel_phone.arff  \n",
            "  inflating: wisdm-dataset/arff_files/phone/accel/data_1642_accel_phone.arff  \n",
            "  inflating: wisdm-dataset/arff_files/phone/accel/data_1637_accel_phone.arff  \n",
            "  inflating: wisdm-dataset/arff_files/phone/accel/data_1621_accel_phone.arff  \n",
            "  inflating: wisdm-dataset/arff_files/phone/accel/.DS_Store  \n",
            "  inflating: wisdm-dataset/arff_files/phone/accel/data_1632_accel_phone.arff  \n",
            "  inflating: wisdm-dataset/arff_files/phone/accel/data_1629_accel_phone.arff  \n",
            "  inflating: wisdm-dataset/arff_files/phone/accel/data_1630_accel_phone.arff  \n",
            "  inflating: wisdm-dataset/arff_files/phone/accel/data_1603_accel_phone.arff  \n",
            "  inflating: wisdm-dataset/arff_files/phone/accel/data_1631_accel_phone.arff  \n",
            "  inflating: wisdm-dataset/arff_files/phone/accel/data_1615_accel_phone.arff  \n",
            "  inflating: wisdm-dataset/arff_files/phone/accel/data_1609_accel_phone.arff  \n",
            "  inflating: wisdm-dataset/arff_files/phone/accel/data_1644_accel_phone.arff  \n",
            "  inflating: wisdm-dataset/arff_files/phone/accel/data_1616_accel_phone.arff  \n",
            "  inflating: wisdm-dataset/arff_files/phone/accel/data_1634_accel_phone.arff  \n",
            "  inflating: wisdm-dataset/arff_files/phone/accel/data_1622_accel_phone.arff  \n",
            "  inflating: wisdm-dataset/arff_files/phone/accel/data_1649_accel_phone.arff  \n",
            "  inflating: wisdm-dataset/arff_files/phone/accel/data_1645_accel_phone.arff  \n",
            "  inflating: wisdm-dataset/arff_files/phone/accel/data_1606_accel_phone.arff  \n",
            "  inflating: wisdm-dataset/arff_files/phone/accel/data_1601_accel_phone.arff  \n",
            "  inflating: wisdm-dataset/arff_files/phone/accel/data_1639_accel_phone.arff  \n",
            "  inflating: wisdm-dataset/arff_files/phone/accel/data_1610_accel_phone.arff  \n",
            "  inflating: wisdm-dataset/arff_files/phone/accel/data_1608_accel_phone.arff  \n",
            "  inflating: wisdm-dataset/arff_files/phone/accel/data_1624_accel_phone.arff  \n",
            "  inflating: wisdm-dataset/arff_files/phone/accel/data_1618_accel_phone.arff  \n",
            "  inflating: wisdm-dataset/arff_files/phone/accel/data_1650_accel_phone.arff  \n",
            "  inflating: wisdm-dataset/arff_files/phone/accel/data_1646_accel_phone.arff  \n",
            "  inflating: wisdm-dataset/arff_files/phone/accel/data_1625_accel_phone.arff  \n",
            "  inflating: wisdm-dataset/arff_files/phone/accel/data_1640_accel_phone.arff  \n",
            "  inflating: wisdm-dataset/arff_files/phone/accel/data_1619_accel_phone.arff  \n",
            "  inflating: wisdm-dataset/arff_files/phone/accel/data_1605_accel_phone.arff  \n",
            "  inflating: wisdm-dataset/arff_files/phone/accel/data_1623_accel_phone.arff  \n",
            "   creating: wisdm-dataset/arff_files/watch/\n",
            "   creating: wisdm-dataset/arff_files/watch/gyro/\n",
            "  inflating: wisdm-dataset/arff_files/watch/gyro/data_1620_gyro_watch.arff  \n",
            "  inflating: wisdm-dataset/arff_files/watch/gyro/data_1604_gyro_watch.arff  \n",
            "  inflating: wisdm-dataset/arff_files/watch/gyro/data_1613_gyro_watch.arff  \n",
            "  inflating: wisdm-dataset/arff_files/watch/gyro/data_1631_gyro_watch.arff  \n",
            "  inflating: wisdm-dataset/arff_files/watch/gyro/data_1635_gyro_watch.arff  \n",
            "  inflating: wisdm-dataset/arff_files/watch/gyro/data_1639_gyro_watch.arff  \n",
            "  inflating: wisdm-dataset/arff_files/watch/gyro/data_1628_gyro_watch.arff  \n",
            "  inflating: wisdm-dataset/arff_files/watch/gyro/data_1603_gyro_watch.arff  \n",
            "  inflating: wisdm-dataset/arff_files/watch/gyro/data_1632_gyro_watch.arff  \n",
            "  inflating: wisdm-dataset/arff_files/watch/gyro/data_1626_gyro_watch.arff  \n",
            "  inflating: wisdm-dataset/arff_files/watch/gyro/data_1618_gyro_watch.arff  \n",
            "  inflating: wisdm-dataset/arff_files/watch/gyro/data_1627_gyro_watch.arff  \n",
            "  inflating: wisdm-dataset/arff_files/watch/gyro/data_1609_gyro_watch.arff  \n",
            "  inflating: wisdm-dataset/arff_files/watch/gyro/data_1646_gyro_watch.arff  \n",
            "  inflating: wisdm-dataset/arff_files/watch/gyro/data_1650_gyro_watch.arff  \n",
            "  inflating: wisdm-dataset/arff_files/watch/gyro/data_1629_gyro_watch.arff  \n",
            "  inflating: wisdm-dataset/arff_files/watch/gyro/data_1621_gyro_watch.arff  \n",
            "  inflating: wisdm-dataset/arff_files/watch/gyro/data_1607_gyro_watch.arff  \n",
            "  inflating: wisdm-dataset/arff_files/watch/gyro/data_1611_gyro_watch.arff  \n",
            "  inflating: wisdm-dataset/arff_files/watch/gyro/data_1637_gyro_watch.arff  \n",
            "  inflating: wisdm-dataset/arff_files/watch/gyro/data_1602_gyro_watch.arff  \n",
            "  inflating: wisdm-dataset/arff_files/watch/gyro/data_1617_gyro_watch.arff  \n",
            "  inflating: wisdm-dataset/arff_files/watch/gyro/data_1619_gyro_watch.arff  \n",
            "  inflating: wisdm-dataset/arff_files/watch/gyro/.DS_Store  \n",
            "  inflating: wisdm-dataset/arff_files/watch/gyro/data_1643_gyro_watch.arff  \n",
            "  inflating: wisdm-dataset/arff_files/watch/gyro/data_1630_gyro_watch.arff  \n",
            "  inflating: wisdm-dataset/arff_files/watch/gyro/data_1641_gyro_watch.arff  \n",
            "  inflating: wisdm-dataset/arff_files/watch/gyro/data_1647_gyro_watch.arff  \n",
            "  inflating: wisdm-dataset/arff_files/watch/gyro/data_1616_gyro_watch.arff  \n",
            "  inflating: wisdm-dataset/arff_files/watch/gyro/data_1648_gyro_watch.arff  \n",
            "  inflating: wisdm-dataset/arff_files/watch/gyro/data_1623_gyro_watch.arff  \n",
            "  inflating: wisdm-dataset/arff_files/watch/gyro/data_1606_gyro_watch.arff  \n",
            "  inflating: wisdm-dataset/arff_files/watch/gyro/data_1634_gyro_watch.arff  \n",
            "  inflating: wisdm-dataset/arff_files/watch/gyro/data_1622_gyro_watch.arff  \n",
            "  inflating: wisdm-dataset/arff_files/watch/gyro/data_1645_gyro_watch.arff  \n",
            "  inflating: wisdm-dataset/arff_files/watch/gyro/data_1642_gyro_watch.arff  \n",
            "  inflating: wisdm-dataset/arff_files/watch/gyro/data_1633_gyro_watch.arff  \n",
            "  inflating: wisdm-dataset/arff_files/watch/gyro/data_1615_gyro_watch.arff  \n",
            "  inflating: wisdm-dataset/arff_files/watch/gyro/data_1640_gyro_watch.arff  \n",
            "  inflating: wisdm-dataset/arff_files/watch/gyro/data_1605_gyro_watch.arff  \n",
            "  inflating: wisdm-dataset/arff_files/watch/gyro/data_1610_gyro_watch.arff  \n",
            "  inflating: wisdm-dataset/arff_files/watch/gyro/data_1624_gyro_watch.arff  \n",
            "  inflating: wisdm-dataset/arff_files/watch/gyro/data_1638_gyro_watch.arff  \n",
            "  inflating: wisdm-dataset/arff_files/watch/gyro/data_1612_gyro_watch.arff  \n",
            "  inflating: wisdm-dataset/arff_files/watch/gyro/data_1600_gyro_watch.arff  \n",
            "  inflating: wisdm-dataset/arff_files/watch/gyro/data_1636_gyro_watch.arff  \n",
            "  inflating: wisdm-dataset/arff_files/watch/gyro/data_1601_gyro_watch.arff  \n",
            "  inflating: wisdm-dataset/arff_files/watch/gyro/data_1644_gyro_watch.arff  \n",
            "  inflating: wisdm-dataset/arff_files/watch/gyro/data_1608_gyro_watch.arff  \n",
            "  inflating: wisdm-dataset/arff_files/watch/gyro/data_1625_gyro_watch.arff  \n",
            "  inflating: wisdm-dataset/arff_files/watch/gyro/data_1649_gyro_watch.arff  \n",
            "  inflating: wisdm-dataset/arff_files/watch/.DS_Store  \n",
            "   creating: wisdm-dataset/arff_files/watch/accel/\n",
            "  inflating: wisdm-dataset/arff_files/watch/accel/data_1623_accel_watch.arff  \n",
            "  inflating: wisdm-dataset/arff_files/watch/accel/data_1608_accel_watch.arff  \n",
            "  inflating: wisdm-dataset/arff_files/watch/accel/data_1641_accel_watch.arff  \n",
            "  inflating: wisdm-dataset/arff_files/watch/accel/data_1635_accel_watch.arff  \n",
            "  inflating: wisdm-dataset/arff_files/watch/accel/data_1643_accel_watch.arff  \n",
            "  inflating: wisdm-dataset/arff_files/watch/accel/data_1604_accel_watch.arff  \n",
            "  inflating: wisdm-dataset/arff_files/watch/accel/data_1633_accel_watch.arff  \n",
            "  inflating: wisdm-dataset/arff_files/watch/accel/data_1630_accel_watch.arff  \n",
            "  inflating: wisdm-dataset/arff_files/watch/accel/data_1609_accel_watch.arff  \n",
            "  inflating: wisdm-dataset/arff_files/watch/accel/data_1649_accel_watch.arff  \n",
            "  inflating: wisdm-dataset/arff_files/watch/accel/data_1622_accel_watch.arff  \n",
            "  inflating: wisdm-dataset/arff_files/watch/accel/data_1607_accel_watch.arff  \n",
            "  inflating: wisdm-dataset/arff_files/watch/accel/data_1634_accel_watch.arff  \n",
            "  inflating: wisdm-dataset/arff_files/watch/accel/data_1618_accel_watch.arff  \n",
            "  inflating: wisdm-dataset/arff_files/watch/accel/data_1610_accel_watch.arff  \n",
            "  inflating: wisdm-dataset/arff_files/watch/accel/data_1650_accel_watch.arff  \n",
            "  inflating: wisdm-dataset/arff_files/watch/accel/data_1647_accel_watch.arff  \n",
            "  inflating: wisdm-dataset/arff_files/watch/accel/data_1642_accel_watch.arff  \n",
            "  inflating: wisdm-dataset/arff_files/watch/accel/data_1646_accel_watch.arff  \n",
            "  inflating: wisdm-dataset/arff_files/watch/accel/data_1617_accel_watch.arff  \n",
            "  inflating: wisdm-dataset/arff_files/watch/accel/data_1637_accel_watch.arff  \n",
            "  inflating: wisdm-dataset/arff_files/watch/accel/data_1626_accel_watch.arff  \n",
            "  inflating: wisdm-dataset/arff_files/watch/accel/data_1645_accel_watch.arff  \n",
            "  inflating: wisdm-dataset/arff_files/watch/accel/data_1612_accel_watch.arff  \n",
            "  inflating: wisdm-dataset/arff_files/watch/accel/data_1615_accel_watch.arff  \n",
            "  inflating: wisdm-dataset/arff_files/watch/accel/.DS_Store  \n",
            "  inflating: wisdm-dataset/arff_files/watch/accel/data_1620_accel_watch.arff  \n",
            "  inflating: wisdm-dataset/arff_files/watch/accel/data_1632_accel_watch.arff  \n",
            "  inflating: wisdm-dataset/arff_files/watch/accel/data_1613_accel_watch.arff  \n",
            "  inflating: wisdm-dataset/arff_files/watch/accel/data_1616_accel_watch.arff  \n",
            "  inflating: wisdm-dataset/arff_files/watch/accel/data_1644_accel_watch.arff  \n",
            "  inflating: wisdm-dataset/arff_files/watch/accel/data_1628_accel_watch.arff  \n",
            "  inflating: wisdm-dataset/arff_files/watch/accel/data_1603_accel_watch.arff  \n",
            "  inflating: wisdm-dataset/arff_files/watch/accel/data_1606_accel_watch.arff  \n",
            "  inflating: wisdm-dataset/arff_files/watch/accel/data_1625_accel_watch.arff  \n",
            "  inflating: wisdm-dataset/arff_files/watch/accel/data_1648_accel_watch.arff  \n",
            "  inflating: wisdm-dataset/arff_files/watch/accel/data_1639_accel_watch.arff  \n",
            "  inflating: wisdm-dataset/arff_files/watch/accel/data_1602_accel_watch.arff  \n",
            "  inflating: wisdm-dataset/arff_files/watch/accel/data_1619_accel_watch.arff  \n",
            "  inflating: wisdm-dataset/arff_files/watch/accel/data_1636_accel_watch.arff  \n",
            "  inflating: wisdm-dataset/arff_files/watch/accel/data_1638_accel_watch.arff  \n",
            "  inflating: wisdm-dataset/arff_files/watch/accel/data_1640_accel_watch.arff  \n",
            "  inflating: wisdm-dataset/arff_files/watch/accel/data_1624_accel_watch.arff  \n",
            "  inflating: wisdm-dataset/arff_files/watch/accel/data_1600_accel_watch.arff  \n",
            "  inflating: wisdm-dataset/arff_files/watch/accel/data_1629_accel_watch.arff  \n",
            "  inflating: wisdm-dataset/arff_files/watch/accel/data_1631_accel_watch.arff  \n",
            "  inflating: wisdm-dataset/arff_files/watch/accel/data_1611_accel_watch.arff  \n",
            "  inflating: wisdm-dataset/arff_files/watch/accel/data_1601_accel_watch.arff  \n",
            "  inflating: wisdm-dataset/arff_files/watch/accel/data_1621_accel_watch.arff  \n",
            "  inflating: wisdm-dataset/arff_files/watch/accel/data_1627_accel_watch.arff  \n",
            "  inflating: wisdm-dataset/arff_files/watch/accel/data_1605_accel_watch.arff  \n",
            "  inflating: wisdm-dataset/arff_files/.DS_Store  \n",
            "  inflating: wisdm-dataset/change_raw_act.pl  \n",
            "  inflating: wisdm-dataset/.activity_key.txt.swp  \n",
            "  inflating: wisdm-dataset/activity_key.txt  \n"
          ],
          "name": "stdout"
        }
      ]
    },
    {
      "cell_type": "markdown",
      "metadata": {
        "id": "hnMgoaMkhIDX"
      },
      "source": [
        "Import the relevant python libraries"
      ]
    },
    {
      "cell_type": "code",
      "metadata": {
        "id": "n9x0XbDMhMzt"
      },
      "source": [
        "from __future__ import print_function\n",
        "from matplotlib import pyplot as plt\n",
        "%matplotlib inline\n",
        "import numpy as np\n",
        "import pandas as pd\n",
        "import seaborn as sns\n",
        "from scipy import stats\n",
        "from IPython.display import display, HTML\n",
        "\n",
        "from sklearn import metrics\n",
        "from sklearn.metrics import classification_report\n",
        "from sklearn import preprocessing\n",
        "\n",
        "import keras\n",
        "from keras.models import Sequential\n",
        "from keras.layers import Dense, Dropout, Flatten, Reshape\n",
        "from keras.layers import Conv2D, MaxPooling2D\n",
        "from keras.utils import np_utils\n",
        "\n",
        "import glob"
      ],
      "execution_count": 3,
      "outputs": []
    },
    {
      "cell_type": "code",
      "metadata": {
        "id": "ywsz7yKShYWO"
      },
      "source": [
        "pd.options.display.float_format = '{:.3f}'.format\n",
        "sns.set()\n",
        "plt.style.use('ggplot')"
      ],
      "execution_count": 4,
      "outputs": []
    },
    {
      "cell_type": "markdown",
      "metadata": {
        "id": "FsKTE8ulhdM7"
      },
      "source": [
        "Define constants"
      ]
    },
    {
      "cell_type": "code",
      "metadata": {
        "id": "9ATDm5kbhkeO"
      },
      "source": [
        "LABELS = ['A',\n",
        "          'B',\n",
        "          'C',\n",
        "          'D',\n",
        "          'E']\n",
        "TIME_PERIODS = 200\n",
        "STEP_DISTANCE = 100 "
      ],
      "execution_count": 5,
      "outputs": []
    },
    {
      "cell_type": "markdown",
      "metadata": {
        "id": "w6lZsCfQhy7l"
      },
      "source": [
        "Define functions to read data"
      ]
    },
    {
      "cell_type": "code",
      "metadata": {
        "id": "4jVPgfzlhvYp"
      },
      "source": [
        "def read_data(file_path):\n",
        "  column_names = ['user-id',\n",
        "                    'activity',\n",
        "                    'timestamp',\n",
        "                    'x-axis',\n",
        "                    'y-axis',\n",
        "                    'z-axis']\n",
        "\n",
        "  all_files = glob.glob(file_path + \"/*.txt\")\n",
        "\n",
        "  li = []\n",
        "\n",
        "  for filename in all_files:\n",
        "    df = pd.read_csv(filename, header=None, names=column_names)\n",
        "    li.append(df)\n",
        "\n",
        "  df = pd.concat(li, axis=0, ignore_index=True)\n",
        "  \n",
        "  df['z-axis'].replace(regex=True,\n",
        "      inplace=True,\n",
        "      to_replace=r';',\n",
        "      value=r'')\n",
        "  df['z-axis'] = df['z-axis'].apply(convert_to_float)\n",
        "  df.dropna(axis=0, how='any', inplace=True)\n",
        "\n",
        "  return df\n",
        "\n",
        "\n",
        "def convert_to_float(x):\n",
        "    try:\n",
        "        return np.float(x)\n",
        "    except:\n",
        "        return np.nan\n",
        "\n",
        "\n",
        "def show_basic_dataframe_info(dataframe):\n",
        "\n",
        "    # Shape and how many rows and columns\n",
        "    print('Number of columns in the dataframe: %i' % (dataframe.shape[1]))\n",
        "    print('Number of rows in the dataframe: %i\\n' % (dataframe.shape[0]))"
      ],
      "execution_count": 6,
      "outputs": []
    },
    {
      "cell_type": "markdown",
      "metadata": {
        "id": "PX74KVJ7h7zk"
      },
      "source": [
        "Read accelorometer data from the dataset"
      ]
    },
    {
      "cell_type": "code",
      "metadata": {
        "id": "2WAwScG4iDlp"
      },
      "source": [
        "df = read_data(\"wisdm-dataset/raw/watch/accel/\")"
      ],
      "execution_count": 7,
      "outputs": []
    },
    {
      "cell_type": "markdown",
      "metadata": {
        "id": "xWw3YEVHiMJU"
      },
      "source": [
        "Display dataframe info"
      ]
    },
    {
      "cell_type": "code",
      "metadata": {
        "colab": {
          "base_uri": "https://localhost:8080/",
          "height": 470
        },
        "id": "3-5OkRhAiLjr",
        "outputId": "f815a83c-2f9a-43b5-eece-0544ef6b3211"
      },
      "source": [
        "show_basic_dataframe_info(df)\n",
        "df.head(200)"
      ],
      "execution_count": 8,
      "outputs": [
        {
          "output_type": "stream",
          "text": [
            "Number of columns in the dataframe: 6\n",
            "Number of rows in the dataframe: 3777046\n",
            "\n"
          ],
          "name": "stdout"
        },
        {
          "output_type": "execute_result",
          "data": {
            "text/html": [
              "<div>\n",
              "<style scoped>\n",
              "    .dataframe tbody tr th:only-of-type {\n",
              "        vertical-align: middle;\n",
              "    }\n",
              "\n",
              "    .dataframe tbody tr th {\n",
              "        vertical-align: top;\n",
              "    }\n",
              "\n",
              "    .dataframe thead th {\n",
              "        text-align: right;\n",
              "    }\n",
              "</style>\n",
              "<table border=\"1\" class=\"dataframe\">\n",
              "  <thead>\n",
              "    <tr style=\"text-align: right;\">\n",
              "      <th></th>\n",
              "      <th>user-id</th>\n",
              "      <th>activity</th>\n",
              "      <th>timestamp</th>\n",
              "      <th>x-axis</th>\n",
              "      <th>y-axis</th>\n",
              "      <th>z-axis</th>\n",
              "    </tr>\n",
              "  </thead>\n",
              "  <tbody>\n",
              "    <tr>\n",
              "      <th>0</th>\n",
              "      <td>1637</td>\n",
              "      <td>A</td>\n",
              "      <td>14491150618000</td>\n",
              "      <td>-2.728</td>\n",
              "      <td>-1.688</td>\n",
              "      <td>3.205</td>\n",
              "    </tr>\n",
              "    <tr>\n",
              "      <th>1</th>\n",
              "      <td>1637</td>\n",
              "      <td>A</td>\n",
              "      <td>14491170682000</td>\n",
              "      <td>-2.749</td>\n",
              "      <td>-3.257</td>\n",
              "      <td>1.262</td>\n",
              "    </tr>\n",
              "    <tr>\n",
              "      <th>2</th>\n",
              "      <td>1637</td>\n",
              "      <td>A</td>\n",
              "      <td>14491190778000</td>\n",
              "      <td>-2.457</td>\n",
              "      <td>-6.222</td>\n",
              "      <td>-1.602</td>\n",
              "    </tr>\n",
              "    <tr>\n",
              "      <th>3</th>\n",
              "      <td>1637</td>\n",
              "      <td>A</td>\n",
              "      <td>14491210906000</td>\n",
              "      <td>-1.997</td>\n",
              "      <td>-12.516</td>\n",
              "      <td>-16.966</td>\n",
              "    </tr>\n",
              "    <tr>\n",
              "      <th>4</th>\n",
              "      <td>1637</td>\n",
              "      <td>A</td>\n",
              "      <td>14491231896000</td>\n",
              "      <td>1.748</td>\n",
              "      <td>-21.265</td>\n",
              "      <td>-21.998</td>\n",
              "    </tr>\n",
              "    <tr>\n",
              "      <th>...</th>\n",
              "      <td>...</td>\n",
              "      <td>...</td>\n",
              "      <td>...</td>\n",
              "      <td>...</td>\n",
              "      <td>...</td>\n",
              "      <td>...</td>\n",
              "    </tr>\n",
              "    <tr>\n",
              "      <th>195</th>\n",
              "      <td>1637</td>\n",
              "      <td>A</td>\n",
              "      <td>14495080228000</td>\n",
              "      <td>1.894</td>\n",
              "      <td>-10.804</td>\n",
              "      <td>-0.843</td>\n",
              "    </tr>\n",
              "    <tr>\n",
              "      <th>196</th>\n",
              "      <td>1637</td>\n",
              "      <td>A</td>\n",
              "      <td>14495100324000</td>\n",
              "      <td>1.758</td>\n",
              "      <td>-10.706</td>\n",
              "      <td>-0.802</td>\n",
              "    </tr>\n",
              "    <tr>\n",
              "      <th>197</th>\n",
              "      <td>1637</td>\n",
              "      <td>A</td>\n",
              "      <td>14495120553000</td>\n",
              "      <td>1.095</td>\n",
              "      <td>-9.683</td>\n",
              "      <td>-0.462</td>\n",
              "    </tr>\n",
              "    <tr>\n",
              "      <th>198</th>\n",
              "      <td>1637</td>\n",
              "      <td>A</td>\n",
              "      <td>14495140649000</td>\n",
              "      <td>-1.265</td>\n",
              "      <td>-8.890</td>\n",
              "      <td>-1.554</td>\n",
              "    </tr>\n",
              "    <tr>\n",
              "      <th>199</th>\n",
              "      <td>1637</td>\n",
              "      <td>A</td>\n",
              "      <td>14495160897000</td>\n",
              "      <td>-1.334</td>\n",
              "      <td>-8.715</td>\n",
              "      <td>-1.439</td>\n",
              "    </tr>\n",
              "  </tbody>\n",
              "</table>\n",
              "<p>200 rows × 6 columns</p>\n",
              "</div>"
            ],
            "text/plain": [
              "     user-id activity       timestamp  x-axis  y-axis  z-axis\n",
              "0       1637        A  14491150618000  -2.728  -1.688   3.205\n",
              "1       1637        A  14491170682000  -2.749  -3.257   1.262\n",
              "2       1637        A  14491190778000  -2.457  -6.222  -1.602\n",
              "3       1637        A  14491210906000  -1.997 -12.516 -16.966\n",
              "4       1637        A  14491231896000   1.748 -21.265 -21.998\n",
              "..       ...      ...             ...     ...     ...     ...\n",
              "195     1637        A  14495080228000   1.894 -10.804  -0.843\n",
              "196     1637        A  14495100324000   1.758 -10.706  -0.802\n",
              "197     1637        A  14495120553000   1.095  -9.683  -0.462\n",
              "198     1637        A  14495140649000  -1.265  -8.890  -1.554\n",
              "199     1637        A  14495160897000  -1.334  -8.715  -1.439\n",
              "\n",
              "[200 rows x 6 columns]"
            ]
          },
          "metadata": {
            "tags": []
          },
          "execution_count": 8
        }
      ]
    },
    {
      "cell_type": "markdown",
      "metadata": {
        "id": "tWMwxVt1iY2I"
      },
      "source": [
        "Remove unnessary activities from the dataset"
      ]
    },
    {
      "cell_type": "code",
      "metadata": {
        "id": "f4b0k_JHiX4z"
      },
      "source": [
        "df = df[df['activity'] <= 'E']"
      ],
      "execution_count": 9,
      "outputs": []
    },
    {
      "cell_type": "markdown",
      "metadata": {
        "id": "RlN6SoYKiwcS"
      },
      "source": [
        "Encode lables and add them into a new column"
      ]
    },
    {
      "cell_type": "code",
      "metadata": {
        "id": "pex_x4kKitCC"
      },
      "source": [
        "le = preprocessing.LabelEncoder()\n",
        "le.fit(LABELS)\n",
        "df['ActivityEncoded'] = le.transform(df['activity'].values.ravel())"
      ],
      "execution_count": 10,
      "outputs": []
    },
    {
      "cell_type": "code",
      "metadata": {
        "colab": {
          "base_uri": "https://localhost:8080/",
          "height": 419
        },
        "id": "Xga5v7Tci6KL",
        "outputId": "0c3457f1-f515-4811-8310-b1e581e6e2e1"
      },
      "source": [
        "df"
      ],
      "execution_count": 11,
      "outputs": [
        {
          "output_type": "execute_result",
          "data": {
            "text/html": [
              "<div>\n",
              "<style scoped>\n",
              "    .dataframe tbody tr th:only-of-type {\n",
              "        vertical-align: middle;\n",
              "    }\n",
              "\n",
              "    .dataframe tbody tr th {\n",
              "        vertical-align: top;\n",
              "    }\n",
              "\n",
              "    .dataframe thead th {\n",
              "        text-align: right;\n",
              "    }\n",
              "</style>\n",
              "<table border=\"1\" class=\"dataframe\">\n",
              "  <thead>\n",
              "    <tr style=\"text-align: right;\">\n",
              "      <th></th>\n",
              "      <th>user-id</th>\n",
              "      <th>activity</th>\n",
              "      <th>timestamp</th>\n",
              "      <th>x-axis</th>\n",
              "      <th>y-axis</th>\n",
              "      <th>z-axis</th>\n",
              "      <th>ActivityEncoded</th>\n",
              "    </tr>\n",
              "  </thead>\n",
              "  <tbody>\n",
              "    <tr>\n",
              "      <th>0</th>\n",
              "      <td>1637</td>\n",
              "      <td>A</td>\n",
              "      <td>14491150618000</td>\n",
              "      <td>-2.728</td>\n",
              "      <td>-1.688</td>\n",
              "      <td>3.205</td>\n",
              "      <td>0</td>\n",
              "    </tr>\n",
              "    <tr>\n",
              "      <th>1</th>\n",
              "      <td>1637</td>\n",
              "      <td>A</td>\n",
              "      <td>14491170682000</td>\n",
              "      <td>-2.749</td>\n",
              "      <td>-3.257</td>\n",
              "      <td>1.262</td>\n",
              "      <td>0</td>\n",
              "    </tr>\n",
              "    <tr>\n",
              "      <th>2</th>\n",
              "      <td>1637</td>\n",
              "      <td>A</td>\n",
              "      <td>14491190778000</td>\n",
              "      <td>-2.457</td>\n",
              "      <td>-6.222</td>\n",
              "      <td>-1.602</td>\n",
              "      <td>0</td>\n",
              "    </tr>\n",
              "    <tr>\n",
              "      <th>3</th>\n",
              "      <td>1637</td>\n",
              "      <td>A</td>\n",
              "      <td>14491210906000</td>\n",
              "      <td>-1.997</td>\n",
              "      <td>-12.516</td>\n",
              "      <td>-16.966</td>\n",
              "      <td>0</td>\n",
              "    </tr>\n",
              "    <tr>\n",
              "      <th>4</th>\n",
              "      <td>1637</td>\n",
              "      <td>A</td>\n",
              "      <td>14491231896000</td>\n",
              "      <td>1.748</td>\n",
              "      <td>-21.265</td>\n",
              "      <td>-21.998</td>\n",
              "      <td>0</td>\n",
              "    </tr>\n",
              "    <tr>\n",
              "      <th>...</th>\n",
              "      <td>...</td>\n",
              "      <td>...</td>\n",
              "      <td>...</td>\n",
              "      <td>...</td>\n",
              "      <td>...</td>\n",
              "      <td>...</td>\n",
              "      <td>...</td>\n",
              "    </tr>\n",
              "    <tr>\n",
              "      <th>3726868</th>\n",
              "      <td>1608</td>\n",
              "      <td>E</td>\n",
              "      <td>718380750614000</td>\n",
              "      <td>9.382</td>\n",
              "      <td>-2.658</td>\n",
              "      <td>-0.102</td>\n",
              "      <td>4</td>\n",
              "    </tr>\n",
              "    <tr>\n",
              "      <th>3726869</th>\n",
              "      <td>1608</td>\n",
              "      <td>E</td>\n",
              "      <td>718380800539120</td>\n",
              "      <td>9.399</td>\n",
              "      <td>-2.661</td>\n",
              "      <td>-0.099</td>\n",
              "      <td>4</td>\n",
              "    </tr>\n",
              "    <tr>\n",
              "      <th>3726870</th>\n",
              "      <td>1608</td>\n",
              "      <td>E</td>\n",
              "      <td>718380850464240</td>\n",
              "      <td>9.360</td>\n",
              "      <td>-2.622</td>\n",
              "      <td>-0.078</td>\n",
              "      <td>4</td>\n",
              "    </tr>\n",
              "    <tr>\n",
              "      <th>3726871</th>\n",
              "      <td>1608</td>\n",
              "      <td>E</td>\n",
              "      <td>718380900389360</td>\n",
              "      <td>9.336</td>\n",
              "      <td>-2.689</td>\n",
              "      <td>-0.037</td>\n",
              "      <td>4</td>\n",
              "    </tr>\n",
              "    <tr>\n",
              "      <th>3726872</th>\n",
              "      <td>1608</td>\n",
              "      <td>E</td>\n",
              "      <td>718380950314480</td>\n",
              "      <td>9.353</td>\n",
              "      <td>-2.670</td>\n",
              "      <td>-0.066</td>\n",
              "      <td>4</td>\n",
              "    </tr>\n",
              "  </tbody>\n",
              "</table>\n",
              "<p>1053141 rows × 7 columns</p>\n",
              "</div>"
            ],
            "text/plain": [
              "         user-id activity        timestamp  ...  y-axis  z-axis  ActivityEncoded\n",
              "0           1637        A   14491150618000  ...  -1.688   3.205                0\n",
              "1           1637        A   14491170682000  ...  -3.257   1.262                0\n",
              "2           1637        A   14491190778000  ...  -6.222  -1.602                0\n",
              "3           1637        A   14491210906000  ... -12.516 -16.966                0\n",
              "4           1637        A   14491231896000  ... -21.265 -21.998                0\n",
              "...          ...      ...              ...  ...     ...     ...              ...\n",
              "3726868     1608        E  718380750614000  ...  -2.658  -0.102                4\n",
              "3726869     1608        E  718380800539120  ...  -2.661  -0.099                4\n",
              "3726870     1608        E  718380850464240  ...  -2.622  -0.078                4\n",
              "3726871     1608        E  718380900389360  ...  -2.689  -0.037                4\n",
              "3726872     1608        E  718380950314480  ...  -2.670  -0.066                4\n",
              "\n",
              "[1053141 rows x 7 columns]"
            ]
          },
          "metadata": {
            "tags": []
          },
          "execution_count": 11
        }
      ]
    },
    {
      "cell_type": "markdown",
      "metadata": {
        "id": "OqPRtTsajJZO"
      },
      "source": [
        "Normalise the dataframe"
      ]
    },
    {
      "cell_type": "code",
      "metadata": {
        "colab": {
          "base_uri": "https://localhost:8080/"
        },
        "id": "ffb5LB1NjBLQ",
        "outputId": "27b47401-8d76-411f-e419-1b771266c137"
      },
      "source": [
        "max = df[['x-axis', 'y-axis','z-axis']].max().max()\n",
        "min = df[['x-axis', 'y-axis','z-axis']].min().min()\n",
        "\n",
        "ndf = df.copy()\n",
        "ndf['x-axis'] = (df['x-axis'] - min)/(max-min)\n",
        "ndf['y-axis'] = (df['y-axis'] - min)/(max-min)\n",
        "ndf['z-axis'] = (df['z-axis'] - min)/(max-min)\n",
        "ndf = ndf.round({'x-axis': 4, 'y-axis': 4, 'z-axis': 4})\n",
        "\n",
        "max, min"
      ],
      "execution_count": 22,
      "outputs": [
        {
          "output_type": "execute_result",
          "data": {
            "text/plain": [
              "(66.615074, -78.47761)"
            ]
          },
          "metadata": {
            "tags": []
          },
          "execution_count": 22
        }
      ]
    },
    {
      "cell_type": "markdown",
      "metadata": {
        "id": "9L7ekdrNjbZO"
      },
      "source": [
        "Split the dataset to into test and train"
      ]
    },
    {
      "cell_type": "code",
      "metadata": {
        "id": "97lpfQHejY0Q"
      },
      "source": [
        "df_train = ndf[ndf['user-id'] <= 1640]\n",
        "df_test = ndf[ndf['user-id'] > 1640]"
      ],
      "execution_count": 13,
      "outputs": []
    },
    {
      "cell_type": "markdown",
      "metadata": {
        "id": "fJj_484gjpDt"
      },
      "source": [
        "Create segmants and lables"
      ]
    },
    {
      "cell_type": "code",
      "metadata": {
        "id": "FAGH_94ajn73"
      },
      "source": [
        "def create_segments_and_labels(dff, time_steps, step):\n",
        "\n",
        "    # x, y, z acceleration as features\n",
        "    N_FEATURES = 3\n",
        "    # Number of steps to advance in each iteration (for me, it should always\n",
        "    # be equal to the time_steps in order to have no overlap between segments)\n",
        "    # step = time_steps\n",
        "    segments = []\n",
        "    labels = []\n",
        "    accel_data = dff[['x-axis', 'y-axis', 'z-axis']]\n",
        "    for i in range(0, len(dff) - time_steps, step):\n",
        "        values = accel_data.iloc[i:(i + time_steps)].values\n",
        "        # Retrieve the most often used label in this segment\n",
        "        label = stats.mode(dff['ActivityEncoded'][i: i + time_steps])[0][0]\n",
        "        segments.append(values)\n",
        "        labels.append(label)\n",
        "\n",
        "    # Bring the segments into a better shape\n",
        "    reshaped_segments = np.asarray(segments, dtype= np.float32).reshape(-1, time_steps, N_FEATURES)\n",
        "    labels = np.asarray(labels)\n",
        "\n",
        "    return reshaped_segments, labels"
      ],
      "execution_count": 14,
      "outputs": []
    },
    {
      "cell_type": "code",
      "metadata": {
        "id": "n_sU-371jzSS"
      },
      "source": [
        "x_train, y_train = create_segments_and_labels(df_train,\n",
        "                                              TIME_PERIODS,\n",
        "                                              STEP_DISTANCE)\n",
        "\n",
        "x_test, y_test = create_segments_and_labels(df_test,\n",
        "                                              TIME_PERIODS,\n",
        "                                              STEP_DISTANCE)"
      ],
      "execution_count": 15,
      "outputs": []
    },
    {
      "cell_type": "markdown",
      "metadata": {
        "id": "6Y2f7jyij_8N"
      },
      "source": [
        "Hot encode the lables"
      ]
    },
    {
      "cell_type": "code",
      "metadata": {
        "id": "96aomIDDkDCA"
      },
      "source": [
        "num_classes = le.classes_.size\n",
        "y_train_hot = np_utils.to_categorical(y_train, num_classes)\n",
        "y_test_hot = np_utils.to_categorical(y_test, num_classes)"
      ],
      "execution_count": 16,
      "outputs": []
    },
    {
      "cell_type": "markdown",
      "metadata": {
        "id": "qXgJqKTP9lGN"
      },
      "source": [
        "Flattern the data"
      ]
    },
    {
      "cell_type": "code",
      "metadata": {
        "colab": {
          "base_uri": "https://localhost:8080/"
        },
        "id": "TMVie0bQ9j0Y",
        "outputId": "3780ca4a-57ce-4c6f-90b8-10821a342d74"
      },
      "source": [
        "num_time_periods, num_sensors = x_train.shape[1], x_train.shape[2]\n",
        "input_shape = (num_time_periods*num_sensors)\n",
        "x_train_data = x_train.reshape(x_train.shape[0], input_shape)\n",
        "x_test_data = x_test.reshape(x_test.shape[0], input_shape)\n",
        "print('x_train shape:', x_train_data.shape)"
      ],
      "execution_count": 17,
      "outputs": [
        {
          "output_type": "stream",
          "text": [
            "x_train shape: (8719, 600)\n"
          ],
          "name": "stdout"
        }
      ]
    },
    {
      "cell_type": "markdown",
      "metadata": {
        "id": "wG2hl3MnkGxE"
      },
      "source": [
        "Define the model"
      ]
    },
    {
      "cell_type": "code",
      "metadata": {
        "colab": {
          "base_uri": "https://localhost:8080/"
        },
        "id": "E24t9DtjkNRq",
        "outputId": "c8437c13-2246-4d75-e6e5-bcb1a883de49"
      },
      "source": [
        "model_m = Sequential()\n",
        "model_m.add(Reshape((TIME_PERIODS, num_sensors), input_shape=(input_shape,)))\n",
        "model_m.add(Dense(100, activation='relu'))\n",
        "model_m.add(Dense(100, activation='relu'))\n",
        "model_m.add(Dense(100, activation='relu'))\n",
        "model_m.add(Flatten())\n",
        "model_m.add(Dense(num_classes, activation='softmax'))\n",
        "print(model_m.summary())"
      ],
      "execution_count": 18,
      "outputs": [
        {
          "output_type": "stream",
          "text": [
            "Model: \"sequential\"\n",
            "_________________________________________________________________\n",
            "Layer (type)                 Output Shape              Param #   \n",
            "=================================================================\n",
            "reshape (Reshape)            (None, 200, 3)            0         \n",
            "_________________________________________________________________\n",
            "dense (Dense)                (None, 200, 100)          400       \n",
            "_________________________________________________________________\n",
            "dense_1 (Dense)              (None, 200, 100)          10100     \n",
            "_________________________________________________________________\n",
            "dense_2 (Dense)              (None, 200, 100)          10100     \n",
            "_________________________________________________________________\n",
            "flatten (Flatten)            (None, 20000)             0         \n",
            "_________________________________________________________________\n",
            "dense_3 (Dense)              (None, 5)                 100005    \n",
            "=================================================================\n",
            "Total params: 120,605\n",
            "Trainable params: 120,605\n",
            "Non-trainable params: 0\n",
            "_________________________________________________________________\n",
            "None\n"
          ],
          "name": "stdout"
        }
      ]
    },
    {
      "cell_type": "code",
      "metadata": {
        "colab": {
          "base_uri": "https://localhost:8080/"
        },
        "id": "9ajWltwnlNu5",
        "outputId": "3baaaaeb-35b8-40f3-edd9-49af66df9f55"
      },
      "source": [
        "callbacks_list = [\n",
        "    keras.callbacks.ModelCheckpoint(\n",
        "        filepath='best_model.{epoch:02d}-{val_loss:.2f}.h5',\n",
        "        monitor='val_loss', save_best_only=True),\n",
        "]\n",
        "\n",
        "model_m.compile(loss='categorical_crossentropy',\n",
        "                optimizer='adam', metrics=['accuracy'])\n",
        "\n",
        "# Hyper-parameters\n",
        "BATCH_SIZE = 400\n",
        "EPOCHS = 50\n",
        "\n",
        "# Enable validation to use ModelCheckpoint and EarlyStopping callbacks.\n",
        "history = model_m.fit(x_train_data,\n",
        "                      y_train_hot,\n",
        "                      batch_size=BATCH_SIZE,\n",
        "                      epochs=EPOCHS,\n",
        "                      callbacks=callbacks_list,\n",
        "                      validation_data=(x_test_data, y_test_hot),\n",
        "                      verbose=1)"
      ],
      "execution_count": 19,
      "outputs": [
        {
          "output_type": "stream",
          "text": [
            "Epoch 1/50\n",
            "22/22 [==============================] - 9s 389ms/step - loss: 1.6129 - accuracy: 0.2347 - val_loss: 1.4941 - val_accuracy: 0.4583\n",
            "Epoch 2/50\n",
            "22/22 [==============================] - 8s 370ms/step - loss: 1.4785 - accuracy: 0.3925 - val_loss: 1.2231 - val_accuracy: 0.5655\n",
            "Epoch 3/50\n",
            "22/22 [==============================] - 7s 336ms/step - loss: 1.2959 - accuracy: 0.5002 - val_loss: 0.9800 - val_accuracy: 0.6772\n",
            "Epoch 4/50\n",
            "22/22 [==============================] - 8s 357ms/step - loss: 1.0842 - accuracy: 0.5571 - val_loss: 0.8442 - val_accuracy: 0.6943\n",
            "Epoch 5/50\n",
            "22/22 [==============================] - 8s 353ms/step - loss: 0.9516 - accuracy: 0.5878 - val_loss: 0.7483 - val_accuracy: 0.6926\n",
            "Epoch 6/50\n",
            "22/22 [==============================] - 8s 362ms/step - loss: 0.8636 - accuracy: 0.6334 - val_loss: 0.6976 - val_accuracy: 0.7291\n",
            "Epoch 7/50\n",
            "22/22 [==============================] - 8s 361ms/step - loss: 0.8121 - accuracy: 0.6562 - val_loss: 0.7000 - val_accuracy: 0.6960\n",
            "Epoch 8/50\n",
            "22/22 [==============================] - 8s 352ms/step - loss: 0.8227 - accuracy: 0.6369 - val_loss: 0.6340 - val_accuracy: 0.7275\n",
            "Epoch 9/50\n",
            "22/22 [==============================] - 8s 344ms/step - loss: 0.7325 - accuracy: 0.6832 - val_loss: 0.6121 - val_accuracy: 0.7418\n",
            "Epoch 10/50\n",
            "22/22 [==============================] - 8s 354ms/step - loss: 0.7065 - accuracy: 0.6856 - val_loss: 0.6585 - val_accuracy: 0.7070\n",
            "Epoch 11/50\n",
            "22/22 [==============================] - 7s 339ms/step - loss: 0.7156 - accuracy: 0.6918 - val_loss: 0.5878 - val_accuracy: 0.7474\n",
            "Epoch 12/50\n",
            "22/22 [==============================] - 8s 351ms/step - loss: 0.6727 - accuracy: 0.7177 - val_loss: 0.5773 - val_accuracy: 0.7424\n",
            "Epoch 13/50\n",
            "22/22 [==============================] - 8s 350ms/step - loss: 0.6425 - accuracy: 0.7183 - val_loss: 0.5881 - val_accuracy: 0.7496\n",
            "Epoch 14/50\n",
            "22/22 [==============================] - 7s 340ms/step - loss: 0.6277 - accuracy: 0.7387 - val_loss: 0.5512 - val_accuracy: 0.7910\n",
            "Epoch 15/50\n",
            "22/22 [==============================] - 8s 360ms/step - loss: 0.6003 - accuracy: 0.7408 - val_loss: 0.5917 - val_accuracy: 0.7457\n",
            "Epoch 16/50\n",
            "22/22 [==============================] - 8s 363ms/step - loss: 0.6374 - accuracy: 0.7319 - val_loss: 0.5692 - val_accuracy: 0.7446\n",
            "Epoch 17/50\n",
            "22/22 [==============================] - 8s 364ms/step - loss: 0.5823 - accuracy: 0.7544 - val_loss: 0.5272 - val_accuracy: 0.7883\n",
            "Epoch 18/50\n",
            "22/22 [==============================] - 8s 367ms/step - loss: 0.5631 - accuracy: 0.7678 - val_loss: 0.5509 - val_accuracy: 0.7651\n",
            "Epoch 19/50\n",
            "22/22 [==============================] - 8s 357ms/step - loss: 0.5378 - accuracy: 0.7842 - val_loss: 0.5546 - val_accuracy: 0.7629\n",
            "Epoch 20/50\n",
            "22/22 [==============================] - 7s 339ms/step - loss: 0.5423 - accuracy: 0.7880 - val_loss: 0.5221 - val_accuracy: 0.7828\n",
            "Epoch 21/50\n",
            "22/22 [==============================] - 8s 366ms/step - loss: 0.5270 - accuracy: 0.7885 - val_loss: 0.5384 - val_accuracy: 0.7667\n",
            "Epoch 22/50\n",
            "22/22 [==============================] - 8s 350ms/step - loss: 0.5226 - accuracy: 0.7847 - val_loss: 0.5755 - val_accuracy: 0.7745\n",
            "Epoch 23/50\n",
            "22/22 [==============================] - 8s 355ms/step - loss: 0.5459 - accuracy: 0.7705 - val_loss: 0.5491 - val_accuracy: 0.7617\n",
            "Epoch 24/50\n",
            "22/22 [==============================] - 8s 369ms/step - loss: 0.5130 - accuracy: 0.7945 - val_loss: 0.5407 - val_accuracy: 0.7850\n",
            "Epoch 25/50\n",
            "22/22 [==============================] - 8s 356ms/step - loss: 0.5218 - accuracy: 0.7940 - val_loss: 0.5707 - val_accuracy: 0.7734\n",
            "Epoch 26/50\n",
            "22/22 [==============================] - 8s 356ms/step - loss: 0.5035 - accuracy: 0.7986 - val_loss: 0.5314 - val_accuracy: 0.7877\n",
            "Epoch 27/50\n",
            "22/22 [==============================] - 8s 350ms/step - loss: 0.4852 - accuracy: 0.8079 - val_loss: 0.6216 - val_accuracy: 0.7501\n",
            "Epoch 28/50\n",
            "22/22 [==============================] - 8s 343ms/step - loss: 0.5195 - accuracy: 0.7876 - val_loss: 0.5349 - val_accuracy: 0.7850\n",
            "Epoch 29/50\n",
            "22/22 [==============================] - 8s 372ms/step - loss: 0.4662 - accuracy: 0.8174 - val_loss: 0.5145 - val_accuracy: 0.7938\n",
            "Epoch 30/50\n",
            "22/22 [==============================] - 8s 347ms/step - loss: 0.4443 - accuracy: 0.8271 - val_loss: 0.5201 - val_accuracy: 0.7910\n",
            "Epoch 31/50\n",
            "22/22 [==============================] - 8s 347ms/step - loss: 0.4396 - accuracy: 0.8268 - val_loss: 0.5141 - val_accuracy: 0.7844\n",
            "Epoch 32/50\n",
            "22/22 [==============================] - 8s 370ms/step - loss: 0.4209 - accuracy: 0.8337 - val_loss: 0.5248 - val_accuracy: 0.7717\n",
            "Epoch 33/50\n",
            "22/22 [==============================] - 8s 350ms/step - loss: 0.4518 - accuracy: 0.8209 - val_loss: 0.5276 - val_accuracy: 0.7839\n",
            "Epoch 34/50\n",
            "22/22 [==============================] - 8s 362ms/step - loss: 0.4358 - accuracy: 0.8281 - val_loss: 0.5071 - val_accuracy: 0.7899\n",
            "Epoch 35/50\n",
            "22/22 [==============================] - 8s 361ms/step - loss: 0.4084 - accuracy: 0.8433 - val_loss: 0.5405 - val_accuracy: 0.7850\n",
            "Epoch 36/50\n",
            "22/22 [==============================] - 8s 345ms/step - loss: 0.4134 - accuracy: 0.8417 - val_loss: 0.5228 - val_accuracy: 0.7949\n",
            "Epoch 37/50\n",
            "22/22 [==============================] - 8s 360ms/step - loss: 0.3959 - accuracy: 0.8546 - val_loss: 0.4957 - val_accuracy: 0.7789\n",
            "Epoch 38/50\n",
            "22/22 [==============================] - 8s 350ms/step - loss: 0.4064 - accuracy: 0.8508 - val_loss: 0.5332 - val_accuracy: 0.7711\n",
            "Epoch 39/50\n",
            "22/22 [==============================] - 8s 352ms/step - loss: 0.3958 - accuracy: 0.8478 - val_loss: 0.5414 - val_accuracy: 0.7899\n",
            "Epoch 40/50\n",
            "22/22 [==============================] - 8s 369ms/step - loss: 0.3903 - accuracy: 0.8412 - val_loss: 0.5172 - val_accuracy: 0.7905\n",
            "Epoch 41/50\n",
            "22/22 [==============================] - 8s 358ms/step - loss: 0.3691 - accuracy: 0.8578 - val_loss: 0.5546 - val_accuracy: 0.7662\n",
            "Epoch 42/50\n",
            "22/22 [==============================] - 8s 350ms/step - loss: 0.3596 - accuracy: 0.8603 - val_loss: 0.5207 - val_accuracy: 0.7977\n",
            "Epoch 43/50\n",
            "22/22 [==============================] - 8s 358ms/step - loss: 0.3609 - accuracy: 0.8672 - val_loss: 0.5365 - val_accuracy: 0.7844\n",
            "Epoch 44/50\n",
            "22/22 [==============================] - 7s 334ms/step - loss: 0.3578 - accuracy: 0.8645 - val_loss: 0.5186 - val_accuracy: 0.7828\n",
            "Epoch 45/50\n",
            "22/22 [==============================] - 8s 372ms/step - loss: 0.3695 - accuracy: 0.8584 - val_loss: 0.5565 - val_accuracy: 0.7916\n",
            "Epoch 46/50\n",
            "22/22 [==============================] - 8s 361ms/step - loss: 0.3529 - accuracy: 0.8668 - val_loss: 0.5291 - val_accuracy: 0.7971\n",
            "Epoch 47/50\n",
            "22/22 [==============================] - 8s 350ms/step - loss: 0.3500 - accuracy: 0.8702 - val_loss: 0.5293 - val_accuracy: 0.7899\n",
            "Epoch 48/50\n",
            "22/22 [==============================] - 8s 364ms/step - loss: 0.3686 - accuracy: 0.8587 - val_loss: 0.5204 - val_accuracy: 0.7844\n",
            "Epoch 49/50\n",
            "22/22 [==============================] - 8s 365ms/step - loss: 0.3605 - accuracy: 0.8599 - val_loss: 0.5198 - val_accuracy: 0.7767\n",
            "Epoch 50/50\n",
            "22/22 [==============================] - 8s 366ms/step - loss: 0.3641 - accuracy: 0.8582 - val_loss: 0.5162 - val_accuracy: 0.7916\n"
          ],
          "name": "stdout"
        }
      ]
    },
    {
      "cell_type": "code",
      "metadata": {
        "colab": {
          "base_uri": "https://localhost:8080/"
        },
        "id": "aEcf3OSioxFq",
        "outputId": "e49cf8b4-13bf-4df2-955c-085d55c3d6db"
      },
      "source": [
        "score = model_m.evaluate(x_test_data, y_test_hot, verbose=1)\n",
        "\n",
        "print('\\nAccuracy on test data: %0.2f' % score[1])\n",
        "print('\\nLoss on test data: %0.2f' % score[0])"
      ],
      "execution_count": 20,
      "outputs": [
        {
          "output_type": "stream",
          "text": [
            "57/57 [==============================] - 1s 11ms/step - loss: 0.5162 - accuracy: 0.7916\n",
            "\n",
            "Accuracy on test data: 0.79\n",
            "\n",
            "Loss on test data: 0.52\n"
          ],
          "name": "stdout"
        }
      ]
    },
    {
      "cell_type": "code",
      "metadata": {
        "colab": {
          "base_uri": "https://localhost:8080/"
        },
        "id": "tcs7GeRGo6n2",
        "outputId": "554b35eb-c280-4176-aa2a-5ed48d41ef3d"
      },
      "source": [
        "model_m.save('watch')\n",
        "!zip -r watch.zip watch"
      ],
      "execution_count": 21,
      "outputs": [
        {
          "output_type": "stream",
          "text": [
            "INFO:tensorflow:Assets written to: watch/assets\n",
            "  adding: watch/ (stored 0%)\n",
            "  adding: watch/saved_model.pb (deflated 90%)\n",
            "  adding: watch/assets/ (stored 0%)\n",
            "  adding: watch/variables/ (stored 0%)\n",
            "  adding: watch/variables/variables.index (deflated 65%)\n",
            "  adding: watch/variables/variables.data-00000-of-00001 (deflated 17%)\n"
          ],
          "name": "stdout"
        }
      ]
    }
  ]
}